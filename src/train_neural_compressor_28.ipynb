{
 "cells": [
  {
   "cell_type": "code",
   "execution_count": 251,
   "metadata": {},
   "outputs": [],
   "source": [
    "import os\n",
    "import math\n",
    "from math import sqrt\n",
    "\n",
    "import numpy as np\n",
    "import matplotlib.pyplot as plt\n",
    "import torch\n",
    "from sklearn.datasets import load_digits\n",
    "from sklearn import datasets\n",
    "from torch.utils.data import Dataset, DataLoader\n",
    "import torch.nn as nn\n",
    "import torch.nn.functional as F\n",
    "from torchvision.datasets import MNIST\n",
    "from torchvision import transforms\n",
    "from PIL import Image"
   ]
  },
  {
   "cell_type": "code",
   "execution_count": 252,
   "metadata": {},
   "outputs": [],
   "source": [
    "class Digits(Dataset):\n",
    "    def __init__(self, mode ='train', ROOT_FD='/workspace/nttrang2108/VHT/Neural_Compression/', transforms = None):\n",
    "    \n",
    "        if mode =='train':\n",
    "            self.data = MNIST(root=ROOT_FD, transform=transforms, train=True, download=True)\n",
    "            self.data = torch.utils.data.Subset(self.data, range(1000))\n",
    "        elif mode == 'val':\n",
    "            self.data = MNIST(root=ROOT_FD, transform=transforms, train=False, download=True)\n",
    "            self.data = torch.utils.data.Subset(self.data, range(300))\n",
    "        else:\n",
    "            self.data = MNIST(root=ROOT_FD, transform=transforms, train=False, download=True)\n",
    "            self.data = torch.utils.data.Subset(self.data, range(300, 400))\n",
    "        \n",
    "        self.transforms = transforms\n",
    "\n",
    "    def __len__(self):\n",
    "        return len(self.data)\n",
    "\n",
    "    def __getitem__(self, idx):\n",
    "\n",
    "        # plt.imshow(self.data[idx][0], cmap='gray')\n",
    "        # plt.show()\n",
    "        img = np.array(self.data[idx][0])\n",
    "        img = img.reshape(-1)\n",
    "        img = img/255\n",
    "        # to tensor\n",
    "        img = torch.from_numpy(img).float()\n",
    "    \n",
    "        \n",
    "        return img"
   ]
  },
  {
   "cell_type": "code",
   "execution_count": 253,
   "metadata": {},
   "outputs": [],
   "source": [
    "class CausalConv1d(nn.Module):\n",
    "    def __init__(self, in_channels, out_channels, kernel_size, dilation, A = False, **kwargs):\n",
    "        super(CausalConv1d, self).__init__()\n",
    "\n",
    "        self.kernel_size = kernel_size\n",
    "        self.dilation = dilation\n",
    "        self.A  = A\n",
    "        self.padding = (kernel_size - 1) * dilation + A * 1\n",
    "\n",
    "        self.conv1d = torch.nn.Conv1d(in_channels, out_channels,\n",
    "                                      kernel_size, stride = 1,\n",
    "                                      padding = 0,\n",
    "                                      dilation = dilation,\n",
    "                                      **kwargs )\n",
    "                                    \n",
    "    def forward(self, x):\n",
    "        x = torch.nn.functional.pad(x, (self.padding, 0))\n",
    "        conv1d_out = self.conv1d(x)\n",
    "        if self.A :\n",
    "            return conv1d_out[:,:,: -1]\n",
    "        else:\n",
    "            return conv1d_out"
   ]
  },
  {
   "cell_type": "code",
   "execution_count": 254,
   "metadata": {},
   "outputs": [],
   "source": [
    "class Quantizer(nn.Module):\n",
    "    def __init__(self, input_dim, codebook_dim, temp = 1.e7):\n",
    "        super(Quantizer, self).__init__()\n",
    "        self.temp = temp\n",
    "        self.input_dim = input_dim\n",
    "        self.codebook_dim = codebook_dim\n",
    "        self.codebook = nn.Parameter(torch.FloatTensor(1,self.codebook_dim, ).uniform_(-1/self.codebook_dim, 1/self.codebook_dim))\n",
    "\n",
    "    def indices2codebook(self, indices_onehot):\n",
    "        return torch.matmul(indices_onehot, self.codebook.t()).squeeze()\n",
    "\n",
    "    def indices_to_onehot(self, inputs_shape, indices):\n",
    "        indices_hard = torch.zeros(inputs_shape[0], inputs_shape[1], self.codebook_dim)\n",
    "        indices_hard.scatter_(2, indices, 1)\n",
    "\n",
    "    def forward(self, inputs):\n",
    "        inputs_shape = inputs.shape\n",
    "        inputs_repeat = inputs.unsqueeze(2).repeat(1,1,self.codebook_dim)\n",
    "        distances = torch.exp(-torch.sqrt(torch.pow(inputs_repeat - self.codebook.unsqueeze(1), 2)))\n",
    "\n",
    "        indices = torch.argmax(distances, dim = 2).unsqueeze(2)\n",
    "        indices_hard = self.indices_to_onehot(inputs_shape = inputs_shape, indices = indices)\n",
    "\n",
    "        indices_soft = torch.softmax(self.temp * distances, -1)\n",
    "        quantized = self.indices2codebook(indices_onehot = indices_soft)\n",
    "\n",
    "        return(indices_soft, indices_hard, quantized)"
   ]
  },
  {
   "cell_type": "code",
   "execution_count": 255,
   "metadata": {},
   "outputs": [],
   "source": [
    "D = 784\n",
    "C = 16\n",
    "E = 16\n",
    "M = 256\n",
    "M_kernels = 32\n",
    "kernel = 4\n",
    "entropy_coding_type = 'arm'\n",
    "lr = 1e-3\n",
    "num_epochs = 24\n",
    "max_patience = 50\n",
    "beta = 1"
   ]
  },
  {
   "cell_type": "code",
   "execution_count": 256,
   "metadata": {},
   "outputs": [],
   "source": [
    "class Encoder(nn.Module):\n",
    "    def __init__(self):\n",
    "        super(Encoder, self).__init__()\n",
    "        self.encoder = nn.Sequential(nn.Linear(D, M * 2), nn.BatchNorm1d(M * 2), nn.ReLU(),\n",
    "                                     nn.Linear(M * 2, M), nn.BatchNorm1d(M), nn.ReLU(),\n",
    "                                     nn.Linear(M, M // 2), nn.BatchNorm1d(M // 2), nn.ReLU(),\n",
    "                                     nn.Linear(M // 2, C))\n",
    "        \n",
    "    def encode(self, x):\n",
    "        h_e = self.encoder(x)\n",
    "        return h_e\n",
    "    \n",
    "    def forward(self, x):\n",
    "        return self.encode(x)"
   ]
  },
  {
   "cell_type": "code",
   "execution_count": 257,
   "metadata": {},
   "outputs": [],
   "source": [
    "class Decoder(nn.Module):\n",
    "    def __init__(self):\n",
    "        super(Decoder, self).__init__()\n",
    "        self.decoder = nn.Sequential(nn.Linear(C, M//2), nn.BatchNorm1d(M//2), nn.ReLU(),\n",
    "                                     nn.Linear(M //2 , M), nn.BatchNorm1d(M), nn.ReLU(),\n",
    "                                     nn.Linear(M, M * 2), nn.BatchNorm1d(M * 2), nn.ReLU(),\n",
    "                                     nn.Linear(M * 2, D))\n",
    "    \n",
    "    def decode(self, z):\n",
    "        h_d = self.decoder(z)\n",
    "        return h_d\n",
    "\n",
    "    def forward(self, z, x = None):\n",
    "        x_rec = self.decode(z)\n",
    "        return x_rec"
   ]
  },
  {
   "cell_type": "code",
   "execution_count": 258,
   "metadata": {},
   "outputs": [],
   "source": [
    "class ARMEntropyCoding(nn.Module):\n",
    "    def __init__(self, code_dim, codebook_dim):\n",
    "        super(ARMEntropyCoding, self).__init__()\n",
    "        self.code_dim = code_dim\n",
    "        self.codebook_dim = codebook_dim\n",
    "        self.arm_net = nn.Sequential(\n",
    "            CausalConv1d(in_channels=1, out_channels=M_kernels, dilation=1, kernel_size=kernel, A=True, bias = True),\n",
    "            nn.LeakyReLU(),\n",
    "            CausalConv1d(in_channels=M_kernels, out_channels=M_kernels, dilation=1, kernel_size=kernel, A=False, bias = True),\n",
    "            nn.LeakyReLU(),\n",
    "            CausalConv1d(in_channels=M_kernels, out_channels=E, dilation=1, kernel_size=kernel, A=False, bias = True),\n",
    "        )\n",
    "\n",
    "\n",
    "\n",
    "    def f(self, x):\n",
    "        h = self.arm_net(x.unsqueeze(1))\n",
    "        h = h.permute(0, 2, 1)\n",
    "        p = torch.softmax(h,2)\n",
    "\n",
    "        return p\n",
    "    \n",
    "    def sample(self, quantizer = None, B =10):\n",
    "        x_new = torch.zeros((B, self.code_dim))\n",
    "        # print('Q_xnew:', x_new)\n",
    "\n",
    "        for d in range(self.code_dim):\n",
    "            p = self.f(x_new)\n",
    "            # print('Q_p:', p)\n",
    "            indx_d = torch.multinomial(p[:, d, :], num_samples = 1)\n",
    "            codebook_value = quantizer.codebook[0, indx_d].squeeze()\n",
    "            x_new[:, d] = codebook_value\n",
    "        \n",
    "        return x_new\n",
    "\n",
    "\n",
    "    def forward(self, z, x):\n",
    "        p = self.f(x)\n",
    "        return -torch.sum(z * torch.log(p), 2)"
   ]
  },
  {
   "cell_type": "code",
   "execution_count": 259,
   "metadata": {},
   "outputs": [],
   "source": [
    "class NeuralCompressor(nn.Module):\n",
    "    def __init__(self, encoder, decoder, entropy_coding, quantizer, beta = 1., detaching = False):\n",
    "        super(NeuralCompressor, self).__init__()\n",
    "\n",
    "        self.encoder = encoder\n",
    "        self.decoder = decoder\n",
    "        self.entropy_coding = entropy_coding\n",
    "        self.quantizer = quantizer\n",
    "\n",
    "        self.beta = beta\n",
    "        self.detaching = detaching\n",
    "\n",
    "    def forward(self, x, reduction = 'avg'):\n",
    "        z = self.encoder(x)\n",
    "        quantizer_out = self.quantizer(z)\n",
    "        x_rec = self.decoder(quantizer_out[2])\n",
    "        Distortion = torch.mean(torch.pow(x - x_rec, 2), 1)\n",
    "        Rate = torch.mean(self.entropy_coding(quantizer_out[0], quantizer_out[2]), 1)\n",
    "        objective = Distortion + self.beta * Rate\n",
    "\n",
    "        if reduction == 'sum':\n",
    "            return objective.sum(), Distortion.sum(), Rate.sum()\n",
    "        else:\n",
    "            return objective.mean(), Distortion.mean(), Rate.mean()"
   ]
  },
  {
   "cell_type": "code",
   "execution_count": 260,
   "metadata": {},
   "outputs": [],
   "source": [
    "def evaluation(test_loader, name = None, model_best = None, epoch = None):\n",
    "    if model_best is None:\n",
    "        model_best = torch.load(name + '.model')\n",
    "    \n",
    "    model_best.eval()\n",
    "    loss = 0.\n",
    "    distortion = 0.\n",
    "    rate = 0.\n",
    "    N = 0\n",
    "    for indx_batch, test_batch in enumerate(test_loader):\n",
    "        loss_t, distortion_t, rate_t = model_best.forward(test_batch, reduction = 'sum')\n",
    "        loss = loss + loss_t.item()\n",
    "        distortion = distortion + distortion_t.item()\n",
    "        rate = rate + rate_t.item()\n",
    "        N  = N + test_batch.shape[0]\n",
    "    \n",
    "    loss = loss/N\n",
    "    distortion = distortion/N\n",
    "    rate = rate/N\n",
    "\n",
    "    if epoch is None:\n",
    "        print(f'Final LOSS: objective = {loss} (distortion = {distortion}, rate = {rate})')\n",
    "    else:\n",
    "        print(f'Epoch: {epoch}, objective val = {loss} (distortion = {distortion}, rate = {rate})')\n",
    "    \n",
    "    return loss, distortion, rate\n",
    "\n",
    "def plot_curve(name, nll_val, metric_name = 'loss'):\n",
    "    plt.plot(np.arange(len(nll_val)), nll_val, linewidth = '3')\n",
    "    plt.xlabel('epochs')\n",
    "    plt.ylabel(metric_name)\n",
    "    plt.savefig(name + metric_name + '_val_curve.pdf', bbox_inches = 'tight')\n",
    "    plt.close()\n",
    "\n"
   ]
  },
  {
   "cell_type": "code",
   "execution_count": 261,
   "metadata": {},
   "outputs": [],
   "source": [
    "def training(name, max_patience, num_epochs, model, optimizer, training_loader, val_loader):\n",
    "    objective_loss_val = []\n",
    "    objective_distortion_val = []\n",
    "    objective_rate_val = []\n",
    "    loss_best = 1000.\n",
    "    patience = 0\n",
    "\n",
    "    for e in range(num_epochs):\n",
    "        model.train()\n",
    "        for indx_batch, batch in enumerate(training_loader):\n",
    "            if hasattr(model, 'dequantization'):\n",
    "                if model.dequantization:\n",
    "                    batch = batch + torch.rand(batch.shape)\n",
    "            loss, _, _ = model.forward(batch)\n",
    "\n",
    "            optimizer.zero_grad()\n",
    "            loss.backward(retain_graph = True)\n",
    "            optimizer.step()\n",
    "\n",
    "        loss_val, distortion_val, rate_val = evaluation(val_loader, model_best = model, epoch = e)\n",
    "        objective_loss_val.append(loss_val)\n",
    "        objective_rate_val.append(rate_val)\n",
    "        objective_distortion_val.append(distortion_val)\n",
    "\n",
    "        if e == 0:\n",
    "            print('=======SAVE=====')\n",
    "            torch.save(model, name + '.model')\n",
    "            loss_best = loss_val\n",
    "        else:\n",
    "            if loss_val < loss_best:\n",
    "                print('=====SAVE====')\n",
    "                torch.save(model, name + '.model')\n",
    "                loss_best = loss_val\n",
    "                patience = 0\n",
    "\n",
    "            else:\n",
    "                patience = patience + 1\n",
    "        \n",
    "\n",
    "        if patience > max_patience:\n",
    "            break\n",
    "    \n",
    "    objective_loss_val = np.asarray(objective_loss_val)\n",
    "    objective_rate_val = np.asarray(objective_rate_val)\n",
    "    objective_distortion_val = np.asarray(objective_distortion_val)\n",
    "\n",
    "    return  objective_loss_val, objective_distortion_val, objective_rate_val"
   ]
  },
  {
   "cell_type": "code",
   "execution_count": 262,
   "metadata": {},
   "outputs": [],
   "source": [
    "train_data = Digits(mode = 'train')\n",
    "val_data = Digits(mode = 'val')\n",
    "test_data = Digits(mode = 'test')\n",
    "\n",
    "training_loader = DataLoader(train_data, batch_size=64, shuffle=True)\n",
    "val_loader = DataLoader(val_data, batch_size=64, shuffle=False)\n",
    "test_loader = DataLoader(test_data, batch_size=64, shuffle=False)"
   ]
  },
  {
   "cell_type": "code",
   "execution_count": 263,
   "metadata": {},
   "outputs": [],
   "source": [
    "result_dir = '/workspace/nttrang2108/VHT/Neural_Compression/'\n",
    "if not(os.path.exists(result_dir)):\n",
    "    os.mkdir(result_dir)\n",
    "name = 'neural_compressor_' + entropy_coding_type + '_C_' + str(C) + '_E_' + str(E)"
   ]
  },
  {
   "cell_type": "code",
   "execution_count": 264,
   "metadata": {},
   "outputs": [],
   "source": [
    "encoder = Encoder()\n",
    "decoder = Decoder()\n",
    "quantizer = Quantizer(input_dim=C, codebook_dim=E)\n",
    "entropy_coding = ARMEntropyCoding(code_dim=C, codebook_dim=E)\n",
    "\n",
    "model = NeuralCompressor(encoder=encoder, decoder=decoder, entropy_coding=entropy_coding, quantizer=quantizer, beta=beta )"
   ]
  },
  {
   "cell_type": "code",
   "execution_count": 265,
   "metadata": {},
   "outputs": [
    {
     "data": {
      "text/plain": [
       "ARMEntropyCoding(\n",
       "  (arm_net): Sequential(\n",
       "    (0): CausalConv1d(\n",
       "      (conv1d): Conv1d(1, 32, kernel_size=(4,), stride=(1,))\n",
       "    )\n",
       "    (1): LeakyReLU(negative_slope=0.01)\n",
       "    (2): CausalConv1d(\n",
       "      (conv1d): Conv1d(32, 32, kernel_size=(4,), stride=(1,))\n",
       "    )\n",
       "    (3): LeakyReLU(negative_slope=0.01)\n",
       "    (4): CausalConv1d(\n",
       "      (conv1d): Conv1d(32, 16, kernel_size=(4,), stride=(1,))\n",
       "    )\n",
       "  )\n",
       ")"
      ]
     },
     "execution_count": 265,
     "metadata": {},
     "output_type": "execute_result"
    }
   ],
   "source": [
    "entropy_coding.eval()"
   ]
  },
  {
   "cell_type": "code",
   "execution_count": 266,
   "metadata": {},
   "outputs": [],
   "source": [
    "optimizer = torch.optim.Adamax([p for p in model.parameters() if p.requires_grad == True], lr = lr)\n"
   ]
  },
  {
   "cell_type": "code",
   "execution_count": 267,
   "metadata": {},
   "outputs": [
    {
     "name": "stdout",
     "output_type": "stream",
     "text": [
      "Epoch: 0, objective val = 2.575940882364909 (distortion = 0.08497881571451824, rate = 2.490962168375651)\n",
      "=======SAVE=====\n",
      "Epoch: 1, objective val = 1.8048992156982422 (distortion = 0.08250655174255371, rate = 1.7223926798502605)\n",
      "=====SAVE====\n",
      "Epoch: 2, objective val = 1.4671337509155273 (distortion = 0.07654765526453654, rate = 1.3905860137939454)\n",
      "=====SAVE====\n",
      "Epoch: 3, objective val = 1.3808867899576822 (distortion = 0.06998313744862875, rate = 1.3109036509195964)\n",
      "=====SAVE====\n",
      "Epoch: 4, objective val = 1.3504827880859376 (distortion = 0.06885722796122233, rate = 1.2816256205240886)\n",
      "=====SAVE====\n",
      "Epoch: 5, objective val = 1.3306076939900715 (distortion = 0.06882429838180543, rate = 1.2617834218343098)\n",
      "=====SAVE====\n",
      "Epoch: 6, objective val = 1.3176715723673502 (distortion = 0.06749308983484904, rate = 1.250178451538086)\n",
      "=====SAVE====\n",
      "Epoch: 7, objective val = 1.2571490987141927 (distortion = 0.06608874559402465, rate = 1.1910603332519532)\n",
      "=====SAVE====\n",
      "Epoch: 8, objective val = 1.2962662124633788 (distortion = 0.06581868648529053, rate = 1.2304474385579427)\n",
      "Epoch: 9, objective val = 1.3122095998128256 (distortion = 0.06389636675516765, rate = 1.2483132807413737)\n",
      "Epoch: 10, objective val = 1.3062083053588867 (distortion = 0.06311716397603352, rate = 1.2430910873413086)\n",
      "Epoch: 11, objective val = 1.2713385264078776 (distortion = 0.06266951878865559, rate = 1.208668950398763)\n",
      "Epoch: 12, objective val = 1.2563205464680989 (distortion = 0.061621835231781004, rate = 1.1946987406412761)\n",
      "=====SAVE====\n",
      "Epoch: 13, objective val = 1.242886085510254 (distortion = 0.06122867743174235, rate = 1.1816573842366536)\n",
      "=====SAVE====\n",
      "Epoch: 14, objective val = 1.2297575124104818 (distortion = 0.06100464344024658, rate = 1.1687528483072918)\n",
      "=====SAVE====\n",
      "Epoch: 15, objective val = 1.230828971862793 (distortion = 0.0606145715713501, rate = 1.1702144368489584)\n",
      "Epoch: 16, objective val = 1.2337518692016602 (distortion = 0.060248614947001136, rate = 1.1735032526652018)\n",
      "Epoch: 17, objective val = 1.2176835250854492 (distortion = 0.05978912830352783, rate = 1.157894426981608)\n",
      "=====SAVE====\n",
      "Epoch: 18, objective val = 1.2092177327473959 (distortion = 0.05941920042037964, rate = 1.14979855855306)\n",
      "=====SAVE====\n",
      "Epoch: 19, objective val = 1.2161791737874348 (distortion = 0.05960457722345988, rate = 1.1565746307373046)\n",
      "Epoch: 20, objective val = 1.208797721862793 (distortion = 0.05896846055984497, rate = 1.1498292668660481)\n",
      "=====SAVE====\n",
      "Epoch: 21, objective val = 1.1987032826741537 (distortion = 0.05888583342234294, rate = 1.1398174413045248)\n",
      "=====SAVE====\n",
      "Epoch: 22, objective val = 1.2055103556315103 (distortion = 0.05888103405634562, rate = 1.146629269917806)\n",
      "Epoch: 23, objective val = 1.1924090957641602 (distortion = 0.058935336271921795, rate = 1.1334737141927083)\n",
      "=====SAVE====\n"
     ]
    }
   ],
   "source": [
    "objective_loss_val, objective_distortion_val, objective_rate_val = training(name = result_dir + name, max_patience= max_patience, num_epochs=num_epochs,\n",
    "                                                                            optimizer = optimizer, training_loader = training_loader, model = model,\n",
    "                                                                            val_loader = val_loader)"
   ]
  },
  {
   "cell_type": "code",
   "execution_count": 268,
   "metadata": {},
   "outputs": [
    {
     "name": "stdout",
     "output_type": "stream",
     "text": [
      "Final LOSS: objective = 1.1862716674804688 (distortion = 0.05913192987442017, rate = 1.1271397399902343)\n"
     ]
    }
   ],
   "source": [
    "test_loss, test_distortion, tess_rate = evaluation(name = result_dir + name, test_loader=test_loader)\n",
    "f = open(result_dir + name + '_test_loss_.txt', \"w\")\n",
    "f.write(str(test_loss) + ',' + str(test_distortion) + ',' +str(tess_rate))\n",
    "f.close()\n",
    "\n",
    "plot_curve(result_dir + name +'_objective_', objective_loss_val, metric_name='objective')\n",
    "plot_curve(result_dir + name +'_distortion_', objective_distortion_val, metric_name='distortion')\n",
    "plot_curve(result_dir + name +'_rate_', objective_rate_val, metric_name='rate')"
   ]
  },
  {
   "cell_type": "code",
   "execution_count": 269,
   "metadata": {},
   "outputs": [],
   "source": [
    "test_data = Digits(mode = 'test')"
   ]
  },
  {
   "cell_type": "code",
   "execution_count": 270,
   "metadata": {},
   "outputs": [
    {
     "name": "stdout",
     "output_type": "stream",
     "text": [
      "torch.Size([4, 784])\n"
     ]
    },
    {
     "data": {
      "image/png": "[encoded data removed]",
      "text/plain": [
       "<Figure size 600x800 with 8 Axes>"
      ]
     },
     "metadata": {},
     "output_type": "display_data"
    }
   ],
   "source": [
    "IMG_IDs = [80, 87, 5, 10]\n",
    "z_sampled = model.entropy_coding.sample(quantizer=model.quantizer, B = 9)\n",
    "x_sampled = model.decoder(z_sampled)\n",
    "\n",
    "x_real = []\n",
    "# stack to tensor\n",
    "for i in IMG_IDs:\n",
    "    x_real.append(test_data.__getitem__(i))\n",
    "x_real = torch.stack(x_real, dim=0)\n",
    "print(x_real.shape)\n",
    "    \n",
    "x_encoder = model.encoder(x_real)\n",
    "# print(x_encoder)\n",
    "# print(\"-----\", model.quantizer(model.encoder(x_real)))\n",
    "x_rec = model.decoder(model.quantizer(model.encoder(x_real))[-1])\n",
    "\n",
    "fig, axs = plt.subplots(4, 2, figsize=(6, 8))\n",
    "i = 0\n",
    "for i in range(len(IMG_IDs)):\n",
    "    axs[i,0].imshow(x_real[i].reshape(28,28).detach().numpy())\n",
    "    axs[i,0].set_title('original')\n",
    "    axs[i,0].axis('off')\n",
    "    \n",
    "    axs[i,1].imshow(x_rec[i].reshape(28,28).detach().numpy())\n",
    "    axs[i,1].set_title('reconstruction')\n",
    "    axs[i,1].axis('off')\n"
   ]
  },
  {
   "cell_type": "code",
   "execution_count": 271,
   "metadata": {},
   "outputs": [
    {
     "data": {
      "text/plain": [
       "torch.Size([9, 784])"
      ]
     },
     "execution_count": 271,
     "metadata": {},
     "output_type": "execute_result"
    }
   ],
   "source": [
    "x_sampled.size()"
   ]
  },
  {
   "cell_type": "code",
   "execution_count": 277,
   "metadata": {},
   "outputs": [
    {
     "data": {
      "image/png": "[encoded data removed]",
      "text/plain": [
       "<Figure size 600x800 with 8 Axes>"
      ]
     },
     "metadata": {},
     "output_type": "display_data"
    }
   ],
   "source": [
    "x_encoder = model.encoder(x_real)\n",
    "fig, axs = plt.subplots(4, 2, figsize=(6, 8))\n",
    "for i in range(len(IMG_IDs)):\n",
    "    axs[i,1].imshow(x_encoder[i].reshape(4,4).detach().numpy())\n",
    "    axs[i,1].set_title('reconstruction')\n",
    "    axs[i,1].axis('off')"
   ]
  },
  {
   "cell_type": "code",
   "execution_count": null,
   "metadata": {},
   "outputs": [],
   "source": []
  }
 ],
 "metadata": {
  "kernelspec": {
   "display_name": "Python 3 (ipykernel)",
   "language": "python",
   "name": "python3"
  },
  "language_info": {
   "codemirror_mode": {
    "name": "ipython",
    "version": 3
   },
   "file_extension": ".py",
   "mimetype": "text/x-python",
   "name": "python",
   "nbconvert_exporter": "python",
   "pygments_lexer": "ipython3",
   "version": "3.7.13"
  },
  "orig_nbformat": 4,
  "vscode": {
   "interpreter": {
    "hash": "9592ef7a6e676949a729bd56e8b3b3933d48a270df918ed35277571629d8bd62"
   }
  }
 },
 "nbformat": 4,
 "nbformat_minor": 2
}
