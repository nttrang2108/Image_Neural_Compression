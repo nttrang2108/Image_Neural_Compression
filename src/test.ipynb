{
 "cells": [
  {
   "cell_type": "code",
   "execution_count": 2,
   "metadata": {},
   "outputs": [
    {
     "name": "stderr",
     "output_type": "stream",
     "text": [
      "/root/anaconda3/envs/DATN/lib/python3.7/site-packages/tqdm/auto.py:22: TqdmWarning: IProgress not found. Please update jupyter and ipywidgets. See https://ipywidgets.readthedocs.io/en/stable/user_install.html\n",
      "  from .autonotebook import tqdm as notebook_tqdm\n"
     ]
    }
   ],
   "source": [
    "import os\n",
    "import math\n",
    "from math import sqrt\n",
    "\n",
    "import numpy as np\n",
    "import matplotlib.pyplot as plt\n",
    "import torch\n",
    "from sklearn.datasets import load_digits\n",
    "from sklearn import datasets\n",
    "from torch.utils.data import Dataset, DataLoader\n",
    "import torch.nn as nn\n",
    "import torch.nn.functional as F"
   ]
  },
  {
   "cell_type": "code",
   "execution_count": null,
   "metadata": {},
   "outputs": [],
   "source": []
  },
  {
   "cell_type": "code",
   "execution_count": 3,
   "metadata": {},
   "outputs": [],
   "source": [
    "class CausalConv1d(nn.Module):\n",
    "    def __init__(self, in_channels, out_channels, kernel_size, dilation, A = False, **kwargs):\n",
    "        super(CausalConv1d, self).__init__()\n",
    "\n",
    "        self.kernel_size = kernel_size\n",
    "        self.dilation = dilation\n",
    "        self.A  = A\n",
    "        self.padding = (kernel_size - 1) * dilation + A * 1\n",
    "\n",
    "        self.conv1d = torch.nn.Conv1d(in_channels, out_channels,\n",
    "                                      kernel_size, stride = 1,\n",
    "                                      padding = 0,\n",
    "                                      dilation = dilation,\n",
    "                                      **kwargs )\n",
    "                                    \n",
    "    def forward(self, x):\n",
    "        x = torch.nn.functional.pad(x, (self.padding, 0))\n",
    "        conv1d_out = self.conv1d(x)\n",
    "        if self.A :\n",
    "            return conv1d_out[:,:,: -1]\n",
    "        else:\n",
    "            return conv1d_out\n",
    "\n",
    "class Quantizer(nn.Module):\n",
    "    def __init__(self, input_dim, codebook_dim, temp = 1.e7):\n",
    "        super(Quantizer, self).__init__()\n",
    "        self.temp = temp\n",
    "        self.input_dim = input_dim\n",
    "        self.codebook_dim = codebook_dim\n",
    "        self.codebook = nn.Parameter(torch.FloatTensor(1,self.codebook_dim, ).uniform_(-1/self.codebook_dim, 1/self.codebook_dim))\n",
    "\n",
    "    def indices2codebook(self, indices_onehot):\n",
    "        return torch.matmul(indices_onehot, self.codebook.t()).squeeze()\n",
    "\n",
    "    def indices_to_onehot(self, inputs_shape, indices):\n",
    "        indices_hard = torch.zeros(inputs_shape[0], inputs_shape[1], self.codebook_dim)\n",
    "        return indices_hard.scatter_(2, indices, 1)\n",
    "\n",
    "    def forward(self, inputs):\n",
    "        inputs_shape = inputs.shape\n",
    "        inputs_repeat = inputs.unsqueeze(2).repeat(1,1,self.codebook_dim)\n",
    "        distances = torch.exp(-torch.sqrt(torch.pow(inputs_repeat - self.codebook.unsqueeze(1), 2)))\n",
    "\n",
    "        indices = torch.argmax(distances, dim = 2).unsqueeze(2)\n",
    "        indices_hard = self.indices_to_onehot(inputs_shape = inputs_shape, indices = indices)\n",
    "\n",
    "        indices_soft = torch.softmax(self.temp * distances, -1)\n",
    "        quantized = self.indices2codebook(indices_onehot = indices_soft)\n",
    "\n",
    "        return(indices_soft, indices_hard, quantized)\n",
    "\n",
    "\n"
   ]
  },
  {
   "cell_type": "code",
   "execution_count": 4,
   "metadata": {},
   "outputs": [],
   "source": [
    "class Encoder(nn.Module):\n",
    "    def __init__(self):\n",
    "        super(Encoder, self).__init__()\n",
    "        self.encoder = nn.Sequential(nn.Linear(D, M * 2), nn.BatchNorm1d(M * 2), nn.ReLU(),\n",
    "                                     nn.Linear(M * 2, M), nn.BatchNorm1d(M), nn.ReLU(),\n",
    "                                     nn.Linear(M, M // 2), nn.BatchNorm1d(M // 2), nn.ReLU(),\n",
    "                                     nn.Linear(M // 2, C))\n",
    "        \n",
    "    def encode(self, x):\n",
    "        h_e = self.encoder(x)\n",
    "        return h_e\n",
    "    \n",
    "    def forward(self, x):\n",
    "        return self.encode(x)"
   ]
  },
  {
   "cell_type": "code",
   "execution_count": 5,
   "metadata": {},
   "outputs": [],
   "source": [
    "class Decoder(nn.Module):\n",
    "    def __init__(self):\n",
    "        super(Decoder, self).__init__()\n",
    "        self.decoder = nn.Sequential(nn.Linear(C, M//2), nn.BatchNorm1d(M//2), nn.ReLU(),\n",
    "                                     nn.Linear(M //2 , M), nn.BatchNorm1d(M), nn.ReLU(),\n",
    "                                     nn.Linear(M, M * 2), nn.BatchNorm1d(M * 2), nn.ReLU(),\n",
    "                                     nn.Linear(M * 2, D))\n",
    "    \n",
    "    def decode(self, z):\n",
    "        h_d = self.decoder(z)\n",
    "        return h_d\n",
    "\n",
    "    def forward(self, z, x = None):\n",
    "        x_rec = self.decode(z)\n",
    "        return x_rec"
   ]
  },
  {
   "cell_type": "code",
   "execution_count": 6,
   "metadata": {},
   "outputs": [],
   "source": [
    "class ARMEntropyCoding(nn.Module):\n",
    "    def __init__(self, code_dim, codebook_dim):\n",
    "        super(ARMEntropyCoding, self).__init__()\n",
    "        self.code_dim = code_dim\n",
    "        self.codebook_dim = codebook_dim\n",
    "        self.arm_net = nn.Sequential(\n",
    "            CausalConv1d(in_channels=1, out_channels=M_kernels, dilation=1, kernel_size=kernel, A=True, bias = True),\n",
    "            nn.LeakyReLU(),\n",
    "            CausalConv1d(in_channels=M_kernels, out_channels=M_kernels, dilation=1, kernel_size=kernel, A=False, bias = True),\n",
    "            nn.LeakyReLU(),\n",
    "            CausalConv1d(in_channels=M_kernels, out_channels=E, dilation=1, kernel_size=kernel, A=False, bias = True),\n",
    "        )\n",
    "\n",
    "\n",
    "\n",
    "    def f(self, x):\n",
    "        h = self.arm_net(x.unsqueeze(1))\n",
    "        h = h.permute(0, 2, 1)\n",
    "        p = torch.softmax(h,2)\n",
    "\n",
    "        return p\n",
    "    \n",
    "    def sample(self, quantizer = None, B =10):\n",
    "        x_new = torch.zeros((B, self.code_dim))\n",
    "\n",
    "        for d in range(self.code_dim):\n",
    "            p = self.f(x_new)\n",
    "            indx_d = torch.multinomial(p[:, d, :], num_samples = 1)\n",
    "            codebook_value = quantizer.codebook[0, indx_d].squeeze()\n",
    "            x_new[:, d] = codebook_value\n",
    "        \n",
    "        return x_new\n",
    "\n",
    "\n",
    "    def forward(self, z, x):\n",
    "        p = self.f(x)\n",
    "        return -torch.sum(z * torch.log(p), 2)"
   ]
  },
  {
   "cell_type": "code",
   "execution_count": 7,
   "metadata": {},
   "outputs": [],
   "source": [
    "class NeuralCompressor(nn.Module):\n",
    "    def __init__(self, encoder, decoder, entropy_coding, quantizer, beta = 1., detaching = False):\n",
    "        super(NeuralCompressor, self).__init__()\n",
    "\n",
    "        self.encoder = encoder\n",
    "        self.decoder = decoder\n",
    "        self.entropy_coding = entropy_coding\n",
    "        self.quantizer = quantizer\n",
    "\n",
    "        self.beta = beta\n",
    "        self.detaching = detaching\n",
    "\n",
    "    def forward(self, x, reduction = 'avg'):\n",
    "        z = self.encoder(x)\n",
    "        quantizer_out = self.quantizer(z)\n",
    "        x_rec = self.decoder(quantizer_out[2])\n",
    "        Distortion = torch.mean(torch.pow(x - x_rec, 2), 1)\n",
    "        Rate = torch.mean(self.entropy_coding(quantizer_out[0], quantizer_out[2]), 1)\n",
    "        objective = Distortion + self.beta * Rate\n",
    "\n",
    "        if reduction == 'sum':\n",
    "            return objective.sum(), Distortion.sum(), Rate.sum()\n",
    "        else:\n",
    "            return objective.mean(), Distortion.mean(), Rate.mean()"
   ]
  },
  {
   "cell_type": "code",
   "execution_count": 8,
   "metadata": {},
   "outputs": [],
   "source": [
    "D = 64\n",
    "C = 16\n",
    "E = 16\n",
    "M = 256\n",
    "M_kernels = 32\n",
    "kernel = 4\n",
    "entropy_coding_type = 'arm'\n",
    "lr = 1e-3\n",
    "num_epochs = 1000\n",
    "max_patience = 50\n",
    "beta = 1"
   ]
  },
  {
   "cell_type": "code",
   "execution_count": 9,
   "metadata": {},
   "outputs": [],
   "source": [
    "encoder = Encoder()\n",
    "decoder = Decoder()\n",
    "quantizer = Quantizer(input_dim=C, codebook_dim=E)\n",
    "entropy_coding = ARMEntropyCoding(code_dim=C, codebook_dim=E)\n",
    "\n",
    "model = NeuralCompressor(encoder=encoder, decoder=decoder, entropy_coding=entropy_coding, quantizer=quantizer, beta=beta )"
   ]
  },
  {
   "cell_type": "code",
   "execution_count": 10,
   "metadata": {},
   "outputs": [],
   "source": [
    "#load model type .model by pytorch\n",
    "model = torch.load('/workspace/nttrang2108/VHT/Neural_Compression/neural_compressor_arm_C_16_E_8.model')"
   ]
  },
  {
   "cell_type": "code",
   "execution_count": 11,
   "metadata": {},
   "outputs": [
    {
     "data": {
      "text/plain": [
       "NeuralCompressor(\n",
       "  (encoder): Encoder(\n",
       "    (encoder): Sequential(\n",
       "      (0): Linear(in_features=64, out_features=512, bias=True)\n",
       "      (1): BatchNorm1d(512, eps=1e-05, momentum=0.1, affine=True, track_running_stats=True)\n",
       "      (2): ReLU()\n",
       "      (3): Linear(in_features=512, out_features=256, bias=True)\n",
       "      (4): BatchNorm1d(256, eps=1e-05, momentum=0.1, affine=True, track_running_stats=True)\n",
       "      (5): ReLU()\n",
       "      (6): Linear(in_features=256, out_features=128, bias=True)\n",
       "      (7): BatchNorm1d(128, eps=1e-05, momentum=0.1, affine=True, track_running_stats=True)\n",
       "      (8): ReLU()\n",
       "      (9): Linear(in_features=128, out_features=16, bias=True)\n",
       "    )\n",
       "  )\n",
       "  (decoder): Decoder(\n",
       "    (decoder): Sequential(\n",
       "      (0): Linear(in_features=16, out_features=128, bias=True)\n",
       "      (1): BatchNorm1d(128, eps=1e-05, momentum=0.1, affine=True, track_running_stats=True)\n",
       "      (2): ReLU()\n",
       "      (3): Linear(in_features=128, out_features=256, bias=True)\n",
       "      (4): BatchNorm1d(256, eps=1e-05, momentum=0.1, affine=True, track_running_stats=True)\n",
       "      (5): ReLU()\n",
       "      (6): Linear(in_features=256, out_features=512, bias=True)\n",
       "      (7): BatchNorm1d(512, eps=1e-05, momentum=0.1, affine=True, track_running_stats=True)\n",
       "      (8): ReLU()\n",
       "      (9): Linear(in_features=512, out_features=64, bias=True)\n",
       "    )\n",
       "  )\n",
       "  (entropy_coding): ARMEntropyCoding(\n",
       "    (arm_net): Sequential(\n",
       "      (0): CausalConv1d(\n",
       "        (conv1d): Conv1d(1, 32, kernel_size=(4,), stride=(1,))\n",
       "      )\n",
       "      (1): LeakyReLU(negative_slope=0.01)\n",
       "      (2): CausalConv1d(\n",
       "        (conv1d): Conv1d(32, 32, kernel_size=(4,), stride=(1,))\n",
       "      )\n",
       "      (3): LeakyReLU(negative_slope=0.01)\n",
       "      (4): CausalConv1d(\n",
       "        (conv1d): Conv1d(32, 8, kernel_size=(4,), stride=(1,))\n",
       "      )\n",
       "    )\n",
       "  )\n",
       "  (quantizer): Quantizer()\n",
       ")"
      ]
     },
     "execution_count": 11,
     "metadata": {},
     "output_type": "execute_result"
    }
   ],
   "source": [
    "model.eval()"
   ]
  },
  {
   "cell_type": "code",
   "execution_count": 12,
   "metadata": {},
   "outputs": [],
   "source": [
    "class Digits(Dataset):\n",
    "    def __init__(self, mode ='train', transforms = None):\n",
    "        digits = load_digits()\n",
    "        if mode =='train':\n",
    "            self.data =digits.data[:1000].astype(np.float32)\n",
    "        elif mode == 'val':\n",
    "            self.data = digits.data[1000:1350].astype(np.float32)\n",
    "        else:\n",
    "            self.data = digits.data[1350:].astype(np.float32)\n",
    "        \n",
    "        self.transforms = transforms\n",
    "\n",
    "    def __len__(self):\n",
    "        return len(self.data)\n",
    "\n",
    "    def __getitem__(self, idx):\n",
    "        sample = self.data[idx]\n",
    "        if self.transforms:\n",
    "            sample = self.transforms(sample)\n",
    "        return sample"
   ]
  },
  {
   "cell_type": "code",
   "execution_count": 13,
   "metadata": {},
   "outputs": [],
   "source": [
    "test_data = Digits(mode = 'test')"
   ]
  },
  {
   "cell_type": "code",
   "execution_count": 20,
   "metadata": {},
   "outputs": [
    {
     "name": "stdout",
     "output_type": "stream",
     "text": [
      "torch.Size([4, 64])\n"
     ]
    },
    {
     "data": {
      "image/png": "[encoded data removed]",
      "text/plain": [
       "<Figure size 600x800 with 8 Axes>"
      ]
     },
     "metadata": {},
     "output_type": "display_data"
    }
   ],
   "source": [
    "IMG_IDs = [110, 120, 130, 140]\n",
    "z_sampled = model.entropy_coding.sample(quantizer=model.quantizer, B = 9)\n",
    "x_sampled = model.decoder(z_sampled)\n",
    "\n",
    "x_real = torch.from_numpy(test_data.__getitem__(IMG_IDs))\n",
    "print(x_real.shape)\n",
    "x_encoder = model.encoder(x_real)\n",
    "# print(x_encoder)\n",
    "# print(\"-----\", model.quantizer(model.encoder(x_real)))\n",
    "x_rec = model.decoder(model.quantizer(model.encoder(x_real))[-1])\n",
    "\n",
    "fig, axs = plt.subplots(4, 2, figsize=(6, 8))\n",
    "i = 0\n",
    "for i in range(len(IMG_IDs)):\n",
    "    axs[i,0].imshow(x_real[i].reshape(8,8).detach().numpy())\n",
    "    axs[i,0].set_title('original')\n",
    "    axs[i,0].axis('off')\n",
    "    \n",
    "    axs[i,1].imshow(x_rec[i].reshape(8,8).detach().numpy())\n",
    "    axs[i,1].set_title('reconstruction')\n",
    "    axs[i,1].axis('off')\n",
    "    "
   ]
  },
  {
   "cell_type": "code",
   "execution_count": 15,
   "metadata": {},
   "outputs": [],
   "source": [
    "# IMG_IDs = [110,]\n",
    "# x_real = torch.from_numpy(test_data.__getitem__(IMG_IDs))\n",
    "# print(x_real)\n",
    "# # x_rec = model.decoder(model.quantizer(model.encoder(x_real))[-1])\n",
    "\n",
    "\n",
    "# x_encoder = model.encoder(x_real)\n",
    "# print(x_encoder)\n",
    "# k, p, e = model.quantizer(x_encoder)\n",
    "# print(\"-----\", e)\n",
    "# x_rec = model.decoder(e)\n",
    "# print(x_rec)\n",
    "\n",
    "# # fig, axs = plt.subplots(4, 2, figsize=(6, 8))\n",
    "# # i = 0\n",
    "# # for i in range(len(IMG_IDs)):\n",
    "# #     axs[i,0].imshow(x_real[i].reshape(8,8).detach().numpy())\n",
    "# #     # print image data byte size\n",
    "# #     print('x_real:', x_real[i].reshape(8,8).detach().numpy().nbytes)\n",
    "# #     axs[i,0].set_title('original')\n",
    "# #     axs[i,0].axis('off')\n",
    "    \n",
    "# #     axs[i,1].imshow(x_rec[i].reshape(8,8).detach().numpy())\n",
    "# #     # print image data byte size\n",
    "# #     print('x_rec:', x_rec[i].reshape(8,8).detach().numpy().nbytes)\n",
    "\n",
    "# #     axs[i,1].set_title('reconstruction')\n",
    "# #     axs[i,1].axis('off')\n",
    "\n",
    "\n",
    "# # plt.savefig(result_dir + name + 'recon_sample.pdf', bbox_inches='tight')"
   ]
  },
  {
   "cell_type": "code",
   "execution_count": 16,
   "metadata": {},
   "outputs": [],
   "source": [
    "codebook_dim = 2\n",
    "X = nn.Parameter(torch.FloatTensor(1,codebook_dim, ).uniform_(-1/codebook_dim, 1/codebook_dim))"
   ]
  },
  {
   "cell_type": "code",
   "execution_count": 17,
   "metadata": {},
   "outputs": [
    {
     "data": {
      "text/plain": [
       "Parameter containing:\n",
       "tensor([[ 0.0031, -0.2566]], requires_grad=True)"
      ]
     },
     "execution_count": 17,
     "metadata": {},
     "output_type": "execute_result"
    }
   ],
   "source": [
    "X"
   ]
  },
  {
   "cell_type": "code",
   "execution_count": 18,
   "metadata": {},
   "outputs": [
    {
     "data": {
      "text/plain": [
       "tensor([[ 3,  6, 14, 11,  8,  2, 14, 11],\n",
       "        [12,  7, 12,  1,  4,  9,  8,  4],\n",
       "        [12,  7, 13, 13,  3,  5,  4,  9],\n",
       "        [13,  7, 11,  3,  2,  9,  2, 14],\n",
       "        [10,  9, 13, 15,  8,  2, 10,  9],\n",
       "        [12, 11,  0, 13,  8, 10, 10,  8],\n",
       "        [ 1,  8,  4,  0,  2, 13,  8,  6],\n",
       "        [14,  8, 12,  4,  4, 10,  5,  2]])"
      ]
     },
     "execution_count": 18,
     "metadata": {},
     "output_type": "execute_result"
    }
   ],
   "source": [
    "# matrix 8x8 with value random from 0 to 15\n",
    "X = torch.randint(0, 16, (8, 8))\n",
    "X"
   ]
  },
  {
   "cell_type": "code",
   "execution_count": 19,
   "metadata": {},
   "outputs": [
    {
     "data": {
      "text/plain": [
       "torch.Size([8, 8, 2])"
      ]
     },
     "execution_count": 19,
     "metadata": {},
     "output_type": "execute_result"
    }
   ],
   "source": [
    "inputs_shape = X.shape\n",
    "\n",
    "inputs_repeat = X.unsqueeze(2).repeat(1, 1, codebook_dim)\n",
    "inputs_repeat.shape"
   ]
  }
 ],
 "metadata": {
  "kernelspec": {
   "display_name": "Python 3.7.13 ('DATN')",
   "language": "python",
   "name": "python3"
  },
  "language_info": {
   "codemirror_mode": {
    "name": "ipython",
    "version": 3
   },
   "file_extension": ".py",
   "mimetype": "text/x-python",
   "name": "python",
   "nbconvert_exporter": "python",
   "pygments_lexer": "ipython3",
   "version": "3.7.13"
  },
  "orig_nbformat": 4,
  "vscode": {
   "interpreter": {
    "hash": "9592ef7a6e676949a729bd56e8b3b3933d48a270df918ed35277571629d8bd62"
   }
  }
 },
 "nbformat": 4,
 "nbformat_minor": 2
}
